{
 "cells": [
  {
   "cell_type": "code",
   "execution_count": 12,
   "metadata": {},
   "outputs": [],
   "source": [
    "import torch\n",
    "import torch.nn as nn\n",
    "import torch.nn.functional as F"
   ]
  },
  {
   "cell_type": "code",
   "execution_count": 14,
   "metadata": {},
   "outputs": [],
   "source": [
    "CONTEXT_SIZE = 2  # 2 words to the left, 2 to the right\n",
    "EMBEDDING_DIM = 10\n",
    "raw_text = \"\"\"We are about to study the idea of a computational process.\n",
    "Computational processes are abstract beings that inhabit computers.\n",
    "As they evolve, processes manipulate other abstract things called data.\n",
    "The evolution of a process is directed by a pattern of rules\n",
    "called a program. People create programs to direct processes. In effect,\n",
    "we conjure the spirits of the computer with our spells.\"\"\".split()"
   ]
  },
  {
   "cell_type": "code",
   "execution_count": 15,
   "metadata": {},
   "outputs": [],
   "source": [
    "def make_context_vector(context, word_to_ix):\n",
    "    idxs = [word_to_ix[w] for w in context]\n",
    "    return torch.tensor(idxs, dtype=torch.long)"
   ]
  },
  {
   "cell_type": "code",
   "execution_count": 16,
   "metadata": {},
   "outputs": [],
   "source": [
    "# By deriving a set from `raw_text`, we deduplicate the array\n",
    "vocab = set(raw_text)\n",
    "vocab_size = len(vocab)"
   ]
  },
  {
   "cell_type": "code",
   "execution_count": 17,
   "metadata": {},
   "outputs": [
    {
     "name": "stdout",
     "output_type": "stream",
     "text": [
      "[(['We', 'are', 'to', 'study'], 'about'), (['are', 'about', 'study', 'the'], 'to'), (['about', 'to', 'the', 'idea'], 'study'), (['to', 'study', 'idea', 'of'], 'the'), (['study', 'the', 'of', 'a'], 'idea')]\n"
     ]
    }
   ],
   "source": [
    "word_to_ix = {word: i for i, word in enumerate(vocab)}\n",
    "data = []\n",
    "for i in range(2, len(raw_text) - 2):\n",
    "    context = [raw_text[i - 2], raw_text[i - 1],\n",
    "               raw_text[i + 1], raw_text[i + 2]]\n",
    "    target = raw_text[i]\n",
    "    data.append((context, target))\n",
    "print(data[:5])"
   ]
  },
  {
   "cell_type": "code",
   "execution_count": 18,
   "metadata": {},
   "outputs": [],
   "source": [
    "class CBOW(nn.Module):\n",
    "\n",
    "    def __init__(self, vocab_size, embedding_dim):\n",
    "        super(CBOW, self).__init__()\n",
    "        self.embeddings = nn.Embedding(vocab_size, embedding_dim)\n",
    "        self.linear1 = nn.Linear(embedding_dim, 128)\n",
    "        self.linear2 = nn.Linear(128, vocab_size)\n",
    "\n",
    "    def forward(self, inputs):\n",
    "        out = self.embeddings(inputs).view((2*CONTEXT_SIZE,-1))\n",
    "        out = torch.sum(out, 0, True)\n",
    "        out = F.relu(self.linear1(out))\n",
    "        out = self.linear2(out)\n",
    "        out = F.log_softmax(out, dim=1)\n",
    "    \n",
    "        return out"
   ]
  },
  {
   "cell_type": "code",
   "execution_count": 19,
   "metadata": {},
   "outputs": [],
   "source": [
    "model = CBOW(vocab_size, EMBEDDING_DIM)\n",
    "criterion = nn.NLLLoss()\n",
    "optim = torch.optim.SGD(model.parameters(), lr=0.001)"
   ]
  },
  {
   "cell_type": "code",
   "execution_count": 20,
   "metadata": {},
   "outputs": [
    {
     "name": "stdout",
     "output_type": "stream",
     "text": [
      "   0/1000 Loss: 3.9112\n",
      "  50/1000 Loss: 2.6330\n",
      " 100/1000 Loss: 1.1387\n",
      " 150/1000 Loss: 0.4726\n",
      " 200/1000 Loss: 0.2477\n",
      " 250/1000 Loss: 0.1550\n",
      " 300/1000 Loss: 0.1083\n",
      " 350/1000 Loss: 0.0814\n",
      " 400/1000 Loss: 0.0643\n",
      " 450/1000 Loss: 0.0526\n",
      " 500/1000 Loss: 0.0443\n",
      " 550/1000 Loss: 0.0380\n",
      " 600/1000 Loss: 0.0332\n",
      " 650/1000 Loss: 0.0293\n",
      " 700/1000 Loss: 0.0262\n",
      " 750/1000 Loss: 0.0237\n",
      " 800/1000 Loss: 0.0215\n",
      " 850/1000 Loss: 0.0197\n",
      " 900/1000 Loss: 0.0182\n",
      " 950/1000 Loss: 0.0168\n"
     ]
    }
   ],
   "source": [
    "for epoch in range(1000):\n",
    "    for txt, target in data:\n",
    "        v_txt = make_context_vector(txt, word_to_ix)\n",
    "        output = model(v_txt)\n",
    "        loss = criterion(output, torch.tensor([word_to_ix[target]], dtype=torch.long))\n",
    "        optim.zero_grad()\n",
    "        loss.backward()\n",
    "        optim.step()\n",
    "    if epoch%50 == 0:    \n",
    "        print('{:4d}/{} Loss: {:.4f}'.format(epoch, 1000, loss.item()))\n",
    "        writer.add_scalar('Train/loss',loss.item(),epoch)"
   ]
  },
  {
   "cell_type": "code",
   "execution_count": 10,
   "metadata": {},
   "outputs": [
    {
     "name": "stdout",
     "output_type": "stream",
     "text": [
      "33\n",
      "tensor(33)\n"
     ]
    }
   ],
   "source": [
    "# test\n",
    "a = data[0][0]\n",
    "output = model(make_context_vector(a ,word_to_ix))\n",
    "print(word_to_ix[data[0][1]])\n",
    "print(torch.argmax(output))"
   ]
  }
 ],
 "metadata": {
  "kernelspec": {
   "display_name": "Python 3",
   "language": "python",
   "name": "python3"
  },
  "language_info": {
   "codemirror_mode": {
    "name": "ipython",
    "version": 3
   },
   "file_extension": ".py",
   "mimetype": "text/x-python",
   "name": "python",
   "nbconvert_exporter": "python",
   "pygments_lexer": "ipython3",
   "version": "3.6.6"
  }
 },
 "nbformat": 4,
 "nbformat_minor": 2
}
